{
 "cells": [
  {
   "cell_type": "code",
   "execution_count": 7,
   "id": "1b2a6564",
   "metadata": {},
   "outputs": [
    {
     "name": "stdout",
     "output_type": "stream",
     "text": [
      "enter your weight in kg: 54\n",
      "enter your height in cm: 156\n",
      "22.189349112426033\n",
      "Your weight is normal\n"
     ]
    }
   ],
   "source": [
    "weight = float(input(\"enter your weight in kg: \"))\n",
    "height = float(input(\"enter your height in cm: \"))\n",
    "\n",
    "BMI = weight/(height/100)**2\n",
    "print(BMI)\n",
    "\n",
    "if (BMI <= 18.5):\n",
    "    print(\"You are underweight\")\n",
    "elif(BMI >= 18.5):\n",
    "    print(\"Your weight is normal\")\n",
    "elif(BMI >= 25):\n",
    "    print(\"Your weight is overweight\")\n",
    "elif(BMI >=30):\n",
    "    print(\"You're OBESE\")"
   ]
  },
  {
   "cell_type": "code",
   "execution_count": null,
   "id": "08b8ae5e",
   "metadata": {},
   "outputs": [],
   "source": []
  }
 ],
 "metadata": {
  "kernelspec": {
   "display_name": "Python 3",
   "language": "python",
   "name": "python3"
  },
  "language_info": {
   "codemirror_mode": {
    "name": "ipython",
    "version": 3
   },
   "file_extension": ".py",
   "mimetype": "text/x-python",
   "name": "python",
   "nbconvert_exporter": "python",
   "pygments_lexer": "ipython3",
   "version": "3.8.8"
  }
 },
 "nbformat": 4,
 "nbformat_minor": 5
}
